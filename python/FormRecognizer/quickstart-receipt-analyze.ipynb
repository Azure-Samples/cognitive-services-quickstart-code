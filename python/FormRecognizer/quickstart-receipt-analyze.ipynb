{
 "cells": [
  {
   "cell_type": "markdown",
   "source": [
    "This notebook gives you an end-to-end example on how to get started using Python SDK to analyze a receipt with Azure Form Recognizer."
   ],
   "metadata": {}
  },
  {
   "cell_type": "markdown",
   "source": [
    "\n",
    "## Prerequistes\n",
    "- Azure subscription - [Create one for free](https://azure.microsoft.com/en-us/free/cognitive-services/)\n",
    "- [Python 3.x](https://www.python.org/) - Your Python installation should include [pip](https://pip.pypa.io/en/stable/). You can check if you have pip installed by running `pip --version` on the command line. Get pip by installing the latest version of Python.\n",
    "- Once you have your Azure subscription, [create a Form Recognizer resource](https://ms.portal.azure.com/#create/Microsoft.CognitiveServicesFormRecognizer) in the Azure portal to get your **key** and **endpoint**. After it deploys, click **Go to resource** - You will need the key and endpoint from the resource you create to connect your application to the Form Recognizer API. Later in the quickstart, you will paste your key and endpoint into the code below. You can use the free pricing tier (`F0`) to try the service, and upgrade later to a paid tier (`S0`) for production."
   ],
   "metadata": {},
   "attachments": {}
  },
  {
   "cell_type": "markdown",
   "source": [
    "## Setting up - Install the client library\n",
    "After installing Python, you can install the latest version of Form Recognier client library with:\n",
    "`pip3 install --upgrade azure-ai-formrecognizer`"
   ],
   "metadata": {}
  },
  {
   "cell_type": "code",
   "execution_count": 19,
   "source": [
    "# !pip3 install --upgrade azure-ai-formrecognizer"
   ],
   "outputs": [],
   "metadata": {}
  },
  {
   "cell_type": "markdown",
   "source": [
    "## Get the key and endpoint\r\n",
    "Refer to the screenshot on how to get the key and endpoint of your Form Recognizer resource.\r\n",
    "![How to find endpoint and key](./images/how-to-find-endpoint-and-key.png)"
   ],
   "metadata": {}
  },
  {
   "cell_type": "code",
   "execution_count": 6,
   "source": [
    "FORMRECOGNIZER_ENDPOINT = \"{enter your endpoint}\"\r\n",
    "FORMRECOGNIZER_KEY = \"{enter your key}\""
   ],
   "outputs": [],
   "metadata": {}
  },
  {
   "cell_type": "markdown",
   "source": [
    "## Authenticate a FormRecognizerClient for document analysis\n",
    "[FormRecognizerClient](https://docs.microsoft.com/en-us/python/api/azure-ai-formrecognizer/azure.ai.formrecognizer.formrecognizerclient?view=azure-python) is used to query the service to recongize document fields and conent like key-value pairs, tables with prebuilt or custom trained models."
   ],
   "metadata": {}
  },
  {
   "cell_type": "code",
   "execution_count": 7,
   "source": [
    "from azure.core.credentials import AzureKeyCredential\r\n",
    "from azure.ai.formrecognizer import FormRecognizerClient, FormField\r\n",
    "\r\n",
    "# Initiate client with given endpoint and credential\r\n",
    "client = FormRecognizerClient(FORMRECOGNIZER_ENDPOINT, AzureKeyCredential(FORMRECOGNIZER_KEY))"
   ],
   "outputs": [],
   "metadata": {}
  },
  {
   "cell_type": "markdown",
   "source": [
    "## Start an analyze request for your local files with `begin_recognize_receipts`"
   ],
   "metadata": {}
  },
  {
   "cell_type": "code",
   "execution_count": 16,
   "source": [
    "# Read the sample image file into memory\r\n",
    "IMAGE_FILE = 'sample-receipt.png'\r\n",
    "with open(IMAGE_FILE, 'rb') as f:\r\n",
    "    data = f.read()\r\n",
    "\r\n",
    "# Send request to Form Recognizer service to process data\r\n",
    "task = client.begin_recognize_receipts(data)\r\n",
    "\r\n",
    "# Get the analyze result\r\n",
    "analyzed_result = task.result()\r\n",
    "print('Status: {}, Document(s): {}'.format(task.status(), len(analyzed_result)))"
   ],
   "outputs": [
    {
     "output_type": "stream",
     "name": "stdout",
     "text": [
      "Status: succeeded, Document(s): 1\n"
     ]
    }
   ],
   "metadata": {}
  },
  {
   "cell_type": "markdown",
   "source": [
    "## You can also analyze files from the web using `begin_recognize_receipts_from_url`"
   ],
   "metadata": {}
  },
  {
   "cell_type": "code",
   "execution_count": 17,
   "source": [
    "IMAGE_URL = 'https://raw.githubusercontent.com/Azure-Samples/cognitive-services-REST-api-samples/master/curl/form-recognizer/contoso-receipt.png'\r\n",
    "\r\n",
    "# Send request to Form Recognizer service to process data\r\n",
    "task = client.begin_recognize_receipts_from_url(IMAGE_URL)\r\n",
    "\r\n",
    "# Get the analyze result\r\n",
    "analyzed_result = task.result()\r\n",
    "print('Status: {}, Document(s): {}'.format(task.status(), len(analyzed_result)))"
   ],
   "outputs": [
    {
     "output_type": "stream",
     "name": "stdout",
     "text": [
      "Status: succeeded, Document(s): 1\n"
     ]
    }
   ],
   "metadata": {}
  },
  {
   "cell_type": "markdown",
   "source": [
    "## Extract information from analyzed result"
   ],
   "metadata": {}
  },
  {
   "cell_type": "code",
   "execution_count": 18,
   "source": [
    "for receipt in analyzed_result:\r\n",
    "    for name, field in receipt.fields.items():\r\n",
    "        if name == \"Items\":\r\n",
    "            print(\"Receipt Items:\")\r\n",
    "            for idx, items in enumerate(field.value):\r\n",
    "                print(\"...Item #{}\".format(idx + 1))\r\n",
    "                for item_name, item in items.value.items():\r\n",
    "                    print(\"......{}: {} has confidence {}\".format(item_name, item.value, item.confidence))\r\n",
    "        else:\r\n",
    "            print(\"{}: {} has confidence {}\".format(name, field.value, field.confidence))"
   ],
   "outputs": [
    {
     "output_type": "stream",
     "name": "stdout",
     "text": [
      "Receipt Items:\n",
      "...Item #1\n",
      "......Name: Surface Pro 6 has confidence 0.914\n",
      "......Quantity: 1.0 has confidence 0.971\n",
      "......TotalPrice: 999.0 has confidence 0.983\n",
      "...Item #2\n",
      "......Name: SurfacePen has confidence 0.718\n",
      "......Quantity: 1.0 has confidence 0.976\n",
      "......TotalPrice: 99.99 has confidence 0.967\n",
      "MerchantAddress: 123 Main Street Redmond, WA 98052 has confidence 0.975\n",
      "MerchantName: Contoso has confidence 0.974\n",
      "MerchantPhoneNumber: None has confidence 0.988\n",
      "ReceiptType: Itemized has confidence 0.99\n",
      "Subtotal: 1098.99 has confidence 0.982\n",
      "Tax: 104.4 has confidence 0.985\n",
      "Total: 1203.39 has confidence 0.957\n",
      "TransactionDate: 2019-06-10 has confidence 0.987\n",
      "TransactionTime: 13:59:00 has confidence 0.985\n"
     ]
    }
   ],
   "metadata": {}
  },
  {
   "cell_type": "markdown",
   "source": [
    "## Next steps\n",
    "- Learn [Receipt concept](https://docs.microsoft.com/en-us/azure/cognitive-services/form-recognizer/concept-receipts)\n",
    "- Explore the [different offerings](https://docs.microsoft.com/en-us/azure/cognitive-services/form-recognizer/overview) in Form Recognizer\n",
    "- Try Form Recognizer with [sample tool](https://docs.microsoft.com/en-us/azure/cognitive-services/form-recognizer/quickstarts/get-started-with-form-recognizer)"
   ],
   "metadata": {}
  },
  {
   "cell_type": "code",
   "execution_count": null,
   "source": [],
   "outputs": [],
   "metadata": {}
  }
 ],
 "metadata": {
  "interpreter": {
   "hash": "4cd7ab41f5fca4b9b44701077e38c5ffd31fe66a6cab21e0214b68d958d0e462"
  },
  "kernelspec": {
   "display_name": "Python 3",
   "language": "python",
   "name": "python3"
  },
  "language_info": {
   "codemirror_mode": {
    "name": "ipython",
    "version": 3
   },
   "file_extension": ".py",
   "mimetype": "text/x-python",
   "name": "python",
   "nbconvert_exporter": "python",
   "pygments_lexer": "ipython3",
   "version": "3.7.11"
  }
 },
 "nbformat": 4,
 "nbformat_minor": 2
}