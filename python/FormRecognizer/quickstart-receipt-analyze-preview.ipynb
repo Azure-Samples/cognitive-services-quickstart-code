{
 "cells": [
  {
   "cell_type": "markdown",
   "metadata": {},
   "source": [
    "This notebook gives you an end-to-end example on how to get started using Python SDK (preview) to analyze a receipt with Azure Form Recognizer."
   ]
  },
  {
   "attachments": {},
   "cell_type": "markdown",
   "metadata": {},
   "source": [
    "\n",
    "## Prerequistes\n",
    "- Azure subscription - [Create one for free](https://azure.microsoft.com/en-us/free/cognitive-services/)\n",
    "- [Python 3.x](https://www.python.org/) - Your Python installation should include [pip](https://pip.pypa.io/en/stable/). You can check if you have pip installed by running `pip --version` on the command line. Get pip by installing the latest version of Python.\n",
    "- Once you have your Azure subscription, [create a Form Recognizer resource](https://ms.portal.azure.com/#create/Microsoft.CognitiveServicesFormRecognizer) in the Azure portal to get your **key** and **endpoint**. After it deploys, click **Go to resource** - You will need the key and endpoint from the resource you create to connect your application to the Form Recognizer API. Later in the quickstart, you will paste your key and endpoint into the code below. You can use the free pricing tier (`F0`) to try the service, and upgrade later to a paid tier (`S0`) for production."
   ]
  },
  {
   "cell_type": "markdown",
   "metadata": {},
   "source": [
    "## Setting up - Install the client library\n",
    "After installing Python, you can install the preview version of Form Recognier client library with:\n",
    "`pip install azure-ai-formrecognizer --pre`"
   ]
  },
  {
   "cell_type": "code",
   "execution_count": null,
   "metadata": {},
   "outputs": [],
   "source": [
    "#!pip install azure-ai-formrecognizer --pre"
   ]
  },
  {
   "cell_type": "markdown",
   "metadata": {},
   "source": []
  },
  {
   "cell_type": "markdown",
   "metadata": {},
   "source": [
    "## Get the key and endpoint\n",
    "Refer to the screenshot on how to get the key and endpoint of your Form Recognizer resource.\n",
    "![How to find endpoint and key](./images/how-to-find-endpoint-and-key.png)"
   ]
  },
  {
   "cell_type": "code",
   "execution_count": 1,
   "metadata": {},
   "outputs": [],
   "source": [
    "FORMRECOGNIZER_ENDPOINT = \"{enter your endpoint}\"\n",
    "FORMRECOGNIZER_KEY = \"{enter your key}\"\n"
   ]
  },
  {
   "cell_type": "markdown",
   "metadata": {},
   "source": [
    "## Authenticate a FormRecognizerClient for document analysis\n",
    "[FormRecognizerClient](https://docs.microsoft.com/en-us/python/api/azure-ai-formrecognizer/azure.ai.formrecognizer.formrecognizerclient?view=azure-python) is used to query the service to recongize document fields and conent like key-value pairs, tables with prebuilt or custom trained models."
   ]
  },
  {
   "cell_type": "code",
   "execution_count": 3,
   "metadata": {},
   "outputs": [],
   "source": [
    "import os\n",
    "from azure.core.exceptions import ResourceNotFoundError\n",
    "from azure.ai.formrecognizer import DocumentAnalysisClient\n",
    "from azure.core.credentials import AzureKeyCredential\n",
    "\n",
    "# Initiate client with given endpoint and credential\n",
    "document_analysis_client = DocumentAnalysisClient(endpoint=FORMRECOGNIZER_ENDPOINT, credential=AzureKeyCredential(FORMRECOGNIZER_KEY))"
   ]
  },
  {
   "cell_type": "markdown",
   "metadata": {},
   "source": [
    "## Start an analyze request for your local files with `begin_analyze_document`"
   ]
  },
  {
   "cell_type": "code",
   "execution_count": 8,
   "metadata": {},
   "outputs": [
    {
     "name": "stdout",
     "output_type": "stream",
     "text": [
      "Status: succeeded, Document(s): [AnalyzedDocument(doc_type=prebuilt:receipt, bounding_regions=[BoundingRegion(page_number=1, bounding_box=[Point(x=0.0, y=0.0), Point(x=612.0, y=0.0), Point(x=612.0, y=792.0), Point(x=0.0, y=792.0)])], spans=[DocumentSpan(offset=0, length=701)], fields={'ArrivalDate': DocumentField(value_type=date, value=datetime.date(2021, 3, 27), content=27Mar21, bounding_regions=[BoundingRegion(page_number=1, bounding_box=[Point(x=73.0, y=305.0), Point(x=110.0, y=305.0), Point(x=110.0, y=315.0), Point(x=74.0, y=315.0)])], spans=[DocumentSpan(offset=216, length=7)], confidence=0.986), 'Currency': DocumentField(value_type=string, value='USD', content=None, bounding_regions=[], spans=[], confidence=0.995), 'DepartureDate': DocumentField(value_type=date, value=datetime.date(2021, 3, 28), content=28Mar21, bounding_regions=[BoundingRegion(page_number=1, bounding_box=[Point(x=292.0, y=304.0), Point(x=329.0, y=304.0), Point(x=329.0, y=315.0), Point(x=292.0, y=315.0)])], spans=[DocumentSpan(offset=246, length=7)], confidence=0.986), 'Items': DocumentField(value_type=list, value=[DocumentField(value_type=dictionary, value={'Category': DocumentField(value_type=string, value='Room', content=None, bounding_regions=[], spans=[], confidence=0.988), 'Date': DocumentField(value_type=date, value=datetime.date(2021, 3, 27), content=27Mar21, bounding_regions=[BoundingRegion(page_number=1, bounding_box=[Point(x=53.0, y=369.0), Point(x=87.0, y=369.0), Point(x=87.0, y=379.0), Point(x=53.0, y=379.0)])], spans=[DocumentSpan(offset=293, length=7)], confidence=0.99), 'Description': DocumentField(value_type=string, value='Room Charge', content=Room Charge, bounding_regions=[BoundingRegion(page_number=1, bounding_box=[Point(x=125.0, y=368.0), Point(x=179.0, y=370.0), Point(x=179.0, y=380.0), Point(x=125.0, y=378.0)])], spans=[DocumentSpan(offset=313, length=11)], confidence=0.989), 'TotalPrice': DocumentField(value_type=float, value=88.0, content=88.00, bounding_regions=[BoundingRegion(page_number=1, bounding_box=[Point(x=443.0, y=368.0), Point(x=464.0, y=368.0), Point(x=464.0, y=377.0), Point(x=443.0, y=376.0)])], spans=[DocumentSpan(offset=333, length=5)], confidence=0.99)}, content=None, bounding_regions=[], spans=[], confidence=None), DocumentField(value_type=dictionary, value={'Category': DocumentField(value_type=string, value='Tax', content=None, bounding_regions=[], spans=[], confidence=0.986), 'Date': DocumentField(value_type=date, value=datetime.date(2021, 3, 27), content=27Mar21, bounding_regions=[BoundingRegion(page_number=1, bounding_box=[Point(x=53.0, y=391.0), Point(x=88.0, y=391.0), Point(x=88.0, y=401.0), Point(x=52.0, y=401.0)])], spans=[DocumentSpan(offset=347, length=7)], confidence=0.99), 'Description': DocumentField(value_type=string, value='County Tax 6%', content=County Tax 6%, bounding_regions=[BoundingRegion(page_number=1, bounding_box=[Point(x=125.0, y=390.0), Point(x=185.0, y=390.0), Point(x=185.0, y=401.0), Point(x=125.0, y=401.0)])], spans=[DocumentSpan(offset=355, length=13)], confidence=0.987), 'TotalPrice': DocumentField(value_type=float, value=5.28, content=5.28, bounding_regions=[BoundingRegion(page_number=1, bounding_box=[Point(x=447.0, y=390.0), Point(x=465.0, y=390.0), Point(x=465.0, y=400.0), Point(x=447.0, y=400.0)])], spans=[DocumentSpan(offset=369, length=4)], confidence=0.99)}, content=None, bounding_regions=[], spans=[], confidence=None), DocumentField(value_type=dictionary, value={'Category': DocumentField(value_type=string, value='Tax', content=None, bounding_regions=[], spans=[], confidence=0.986), 'Date': DocumentField(value_type=date, value=datetime.date(2021, 3, 27), content=27Mar21, bounding_regions=[BoundingRegion(page_number=1, bounding_box=[Point(x=53.0, y=413.0), Point(x=88.0, y=414.0), Point(x=88.0, y=424.0), Point(x=53.0, y=423.0)])], spans=[DocumentSpan(offset=374, length=7)], confidence=0.99), 'Description': DocumentField(value_type=string, value='State Tax 6%', content=State Tax 6%, bounding_regions=[BoundingRegion(page_number=1, bounding_box=[Point(x=126.0, y=413.0), Point(x=176.0, y=413.0), Point(x=176.0, y=424.0), Point(x=126.0, y=424.0)])], spans=[DocumentSpan(offset=382, length=12)], confidence=0.985), 'TotalPrice': DocumentField(value_type=float, value=5.0, content=5:, bounding_regions=[BoundingRegion(page_number=1, bounding_box=[Point(x=449.0, y=412.0), Point(x=455.0, y=412.0), Point(x=455.0, y=424.0), Point(x=449.0, y=423.0)])], spans=[DocumentSpan(offset=395, length=2)], confidence=0.99)}, content=None, bounding_regions=[], spans=[], confidence=None), DocumentField(value_type=dictionary, value={'Category': DocumentField(value_type=string, value='Other', content=None, bounding_regions=[], spans=[], confidence=0.988), 'Date': DocumentField(value_type=date, value=datetime.date(2021, 3, 27), content=27Mar21, bounding_regions=[BoundingRegion(page_number=1, bounding_box=[Point(x=53.0, y=435.0), Point(x=88.0, y=435.0), Point(x=87.0, y=445.0), Point(x=53.0, y=445.0)])], spans=[DocumentSpan(offset=398, length=7)], confidence=0.99), 'Description': DocumentField(value_type=string, value='Daily Parking', content=Daily Parking, bounding_regions=[BoundingRegion(page_number=1, bounding_box=[Point(x=126.0, y=434.0), Point(x=177.0, y=436.0), Point(x=177.0, y=448.0), Point(x=126.0, y=446.0)])], spans=[DocumentSpan(offset=406, length=13)], confidence=0.989), 'TotalPrice': DocumentField(value_type=float, value=8.0, content=8.00, bounding_regions=[BoundingRegion(page_number=1, bounding_box=[Point(x=449.0, y=435.0), Point(x=465.0, y=435.0), Point(x=465.0, y=445.0), Point(x=449.0, y=444.0)])], spans=[DocumentSpan(offset=420, length=4)], confidence=0.989)}, content=None, bounding_regions=[], spans=[], confidence=None), DocumentField(value_type=dictionary, value={'Category': DocumentField(value_type=string, value='Tax', content=None, bounding_regions=[], spans=[], confidence=0.988), 'Date': DocumentField(value_type=date, value=datetime.date(2021, 3, 27), content=27Mar21, bounding_regions=[BoundingRegion(page_number=1, bounding_box=[Point(x=54.0, y=459.0), Point(x=87.0, y=459.0), Point(x=87.0, y=469.0), Point(x=54.0, y=469.0)])], spans=[DocumentSpan(offset=425, length=7)], confidence=0.989), 'Description': DocumentField(value_type=string, value='Parking Tax', content=Parking Tax, bounding_regions=[BoundingRegion(page_number=1, bounding_box=[Point(x=125.0, y=458.0), Point(x=171.0, y=459.0), Point(x=171.0, y=470.0), Point(x=125.0, y=469.0)])], spans=[DocumentSpan(offset=433, length=11)], confidence=0.989), 'TotalPrice': DocumentField(value_type=float, value=0.38, content=0.38, bounding_regions=[BoundingRegion(page_number=1, bounding_box=[Point(x=449.0, y=458.0), Point(x=465.0, y=458.0), Point(x=465.0, y=468.0), Point(x=449.0, y=468.0)])], spans=[DocumentSpan(offset=445, length=4)], confidence=0.99)}, content=None, bounding_regions=[], spans=[], confidence=None), DocumentField(value_type=dictionary, value={'Category': DocumentField(value_type=string, value='Credit', content=None, bounding_regions=[], spans=[], confidence=0.988), 'Date': DocumentField(value_type=date, value=datetime.date(2021, 3, 28), content=28Mar21, bounding_regions=[BoundingRegion(page_number=1, bounding_box=[Point(x=53.0, y=481.0), Point(x=88.0, y=481.0), Point(x=88.0, y=491.0), Point(x=53.0, y=490.0)])], spans=[DocumentSpan(offset=450, length=7)], confidence=0.99), 'Description': DocumentField(value_type=string, value='American Express', content=American Express, bounding_regions=[BoundingRegion(page_number=1, bounding_box=[Point(x=125.0, y=480.0), Point(x=195.0, y=481.0), Point(x=195.0, y=492.0), Point(x=125.0, y=491.0)])], spans=[DocumentSpan(offset=458, length=16)], confidence=0.989), 'TotalPrice': DocumentField(value_type=float, value=104.92, content=104.92, bounding_regions=[BoundingRegion(page_number=1, bounding_box=[Point(x=510.0, y=480.0), Point(x=536.0, y=480.0), Point(x=536.0, y=490.0), Point(x=510.0, y=490.0)])], spans=[DocumentSpan(offset=475, length=6)], confidence=0.99)}, content=None, bounding_regions=[], spans=[], confidence=None)], content=None, bounding_regions=[], spans=[], confidence=None), 'Locale': DocumentField(value_type=string, value='en-US', content=None, bounding_regions=[], spans=[], confidence=0.992), 'MerchantAddress': DocumentField(value_type=string, value='5600 148th Ave NE, Redmond, WA 98052', content=5600 148th Ave NE, Redmond, WA 98052, bounding_regions=[BoundingRegion(page_number=1, bounding_box=[Point(x=480.0, y=122.0), Point(x=577.0, y=122.0), Point(x=577.0, y=149.0), Point(x=480.0, y=149.0)])], spans=[DocumentSpan(offset=20, length=36)], confidence=0.988), 'MerchantAliases': DocumentField(value_type=list, value=[DocumentField(value_type=string, value='Contoso', content=Contoso, bounding_regions=[BoundingRegion(page_number=1, bounding_box=[Point(x=265.0, y=75.0), Point(x=343.0, y=76.0), Point(x=343.0, y=96.0), Point(x=266.0, y=96.0)])], spans=[DocumentSpan(offset=0, length=7)], confidence=0.813)], content=None, bounding_regions=[], spans=[], confidence=None), 'MerchantName': DocumentField(value_type=string, value='Contoso Inn', content=Contoso Inn, bounding_regions=[BoundingRegion(page_number=1, bounding_box=[Point(x=517.0, y=108.0), Point(x=574.0, y=108.0), Point(x=574.0, y=118.0), Point(x=517.0, y=118.0)])], spans=[DocumentSpan(offset=8, length=11)], confidence=0.986), 'MerchantPhoneNumber': DocumentField(value_type=phoneNumber, value='+19876544321', content=987-654-4321, bounding_regions=[BoundingRegion(page_number=1, bounding_box=[Point(x=511.0, y=153.0), Point(x=575.0, y=153.0), Point(x=574.0, y=164.0), Point(x=511.0, y=164.0)])], spans=[DocumentSpan(offset=68, length=12)], confidence=0.99), 'ReceiptType': DocumentField(value_type=string, value='Hotel', content=None, bounding_regions=[], spans=[], confidence=0.988), 'Total': DocumentField(value_type=float, value=104.92, content=104.92, bounding_regions=[BoundingRegion(page_number=1, bounding_box=[Point(x=436.0, y=528.0), Point(x=464.0, y=528.0), Point(x=464.0, y=538.0), Point(x=436.0, y=538.0)])], spans=[DocumentSpan(offset=488, length=6)], confidence=0.994)}, confidence=1.0)]\n"
     ]
    }
   ],
   "source": [
    "# Read the sample image file into memory and begin analyzing the file\n",
    "IMAGE_FILE = 'sample-hotel-receipt.png'\n",
    "with open(IMAGE_FILE, 'rb') as f:\n",
    "    poller = document_analysis_client.begin_analyze_document(\n",
    "            \"prebuilt-receipt\", document=f\n",
    "        )\n",
    "\n",
    "# Get the analyze result\n",
    "receipts = poller.result()\n",
    "print('Status: {}, Document(s): {}'.format(poller.status(), receipts.documents))"
   ]
  },
  {
   "cell_type": "markdown",
   "metadata": {},
   "source": [
    "## You can also analyze files from the web using `begin_analyze_document_from_url`"
   ]
  },
  {
   "cell_type": "code",
   "execution_count": 6,
   "metadata": {},
   "outputs": [
    {
     "name": "stdout",
     "output_type": "stream",
     "text": [
      "Status: succeeded, Document(s): [AnalyzedDocument(doc_type=prebuilt:receipt, bounding_regions=[BoundingRegion(page_number=1, bounding_box=[Point(x=0.0, y=0.0), Point(x=1688.0, y=0.0), Point(x=1688.0, y=3000.0), Point(x=0.0, y=3000.0)])], spans=[DocumentSpan(offset=0, length=233)], fields={'Items': DocumentField(value_type=list, value=[DocumentField(value_type=dictionary, value={'Name': DocumentField(value_type=string, value='Surface Pro 6', content=Surface Pro 6, bounding_regions=[BoundingRegion(page_number=1, bounding_box=[Point(x=360.0, y=1561.0), Point(x=671.0, y=1563.0), Point(x=671.0, y=1621.0), Point(x=360.0, y=1620.0)])], spans=[DocumentSpan(offset=103, length=13)], confidence=0.975), 'Quantity': DocumentField(value_type=float, value=1.0, content=1, bounding_regions=[BoundingRegion(page_number=1, bounding_box=[Point(x=334.0, y=1560.0), Point(x=349.0, y=1561.0), Point(x=348.0, y=1619.0), Point(x=333.0, y=1619.0)])], spans=[DocumentSpan(offset=101, length=1)], confidence=0.975), 'TotalPrice': DocumentField(value_type=float, value=999.0, content=999.00, bounding_regions=[BoundingRegion(page_number=1, bounding_box=[Point(x=977.0, y=1796.0), Point(x=1128.0, y=1800.0), Point(x=1127.0, y=1854.0), Point(x=977.0, y=1849.0)])], spans=[DocumentSpan(offset=157, length=6)], confidence=0.987)}, content=None, bounding_regions=[], spans=[], confidence=None), DocumentField(value_type=dictionary, value={'Name': DocumentField(value_type=string, value='SurfacePen', content=SurfacePen, bounding_regions=[BoundingRegion(page_number=1, bounding_box=[Point(x=345.0, y=2020.0), Point(x=625.0, y=2014.0), Point(x=626.0, y=2075.0), Point(x=348.0, y=2080.0)])], spans=[DocumentSpan(offset=166, length=10)], confidence=0.974), 'Quantity': DocumentField(value_type=float, value=1.0, content=1, bounding_regions=[BoundingRegion(page_number=1, bounding_box=[Point(x=317.0, y=2021.0), Point(x=333.0, y=2020.0), Point(x=336.0, y=2080.0), Point(x=320.0, y=2080.0)])], spans=[DocumentSpan(offset=164, length=1)], confidence=0.976), 'TotalPrice': DocumentField(value_type=float, value=99.99, content=99.99, bounding_regions=[BoundingRegion(page_number=1, bounding_box=[Point(x=1004.0, y=2031.0), Point(x=1130.0, y=2031.0), Point(x=1130.0, y=2090.0), Point(x=1004.0, y=2089.0)])], spans=[DocumentSpan(offset=177, length=5)], confidence=0.986)}, content=None, bounding_regions=[], spans=[], confidence=None)], content=None, bounding_regions=[], spans=[], confidence=None), 'Locale': DocumentField(value_type=string, value='en-US', content=None, bounding_regions=[], spans=[], confidence=0.99), 'MerchantAddress': DocumentField(value_type=string, value='123 Main Street Redmond, WA 98052', content=123 Main Street Redmond, WA 98052, bounding_regions=[BoundingRegion(page_number=1, bounding_box=[Point(x=314.0, y=690.0), Point(x=753.0, y=698.0), Point(x=750.0, y=860.0), Point(x=311.0, y=852.0)])], spans=[DocumentSpan(offset=16, length=33)], confidence=0.977), 'MerchantName': DocumentField(value_type=string, value='Contoso', content=Contoso, bounding_regions=[BoundingRegion(page_number=1, bounding_box=[Point(x=328.0, y=590.0), Point(x=497.0, y=601.0), Point(x=494.0, y=651.0), Point(x=324.0, y=640.0)])], spans=[DocumentSpan(offset=8, length=7)], confidence=0.977), 'MerchantPhoneNumber': DocumentField(value_type=phoneNumber, value=None, content=123-456-7890, bounding_regions=[BoundingRegion(page_number=1, bounding_box=[Point(x=308.0, y=1005.0), Point(x=620.0, y=1012.0), Point(x=616.0, y=1068.0), Point(x=306.0, y=1063.0)])], spans=[DocumentSpan(offset=50, length=12)], confidence=0.989), 'ReceiptType': DocumentField(value_type=string, value='Itemized', content=None, bounding_regions=[], spans=[], confidence=0.981), 'Subtotal': DocumentField(value_type=float, value=1098.99, content=$ 1098.99, bounding_regions=[BoundingRegion(page_number=1, bounding_box=[Point(x=926.0, y=2262.0), Point(x=1134.0, y=2256.0), Point(x=1136.0, y=2316.0), Point(x=927.0, y=2322.0)])], spans=[DocumentSpan(offset=207, length=9)], confidence=0.977), 'Tax': DocumentField(value_type=float, value=104.4, content=104.40, bounding_regions=[BoundingRegion(page_number=1, bounding_box=[Point(x=980.0, y=2372.0), Point(x=1128.0, y=2370.0), Point(x=1129.0, y=2427.0), Point(x=981.0, y=2429.0)])], spans=[DocumentSpan(offset=217, length=6)], confidence=0.987), 'Total': DocumentField(value_type=float, value=1203.39, content=$ 1203.39, bounding_regions=[BoundingRegion(page_number=1, bounding_box=[Point(x=909.0, y=2590.0), Point(x=1126.0, y=2613.0), Point(x=1120.0, y=2674.0), Point(x=903.0, y=2651.0)])], spans=[DocumentSpan(offset=224, length=9)], confidence=0.981), 'TransactionDate': DocumentField(value_type=date, value=datetime.date(2019, 6, 10), content=6/10/2019, bounding_regions=[BoundingRegion(page_number=1, bounding_box=[Point(x=302.0, y=1223.0), Point(x=495.0, y=1224.0), Point(x=494.0, y=1290.0), Point(x=301.0, y=1289.0)])], spans=[DocumentSpan(offset=63, length=9)], confidence=0.989), 'TransactionTime': DocumentField(value_type=time, value=datetime.time(13, 59), content=13:59, bounding_regions=[BoundingRegion(page_number=1, bounding_box=[Point(x=507.0, y=1224.0), Point(x=632.0, y=1228.0), Point(x=631.0, y=1290.0), Point(x=507.0, y=1290.0)])], spans=[DocumentSpan(offset=73, length=5)], confidence=0.988)}, confidence=1.0)]\n"
     ]
    }
   ],
   "source": [
    "IMAGE_URL = 'https://raw.githubusercontent.com/Azure-Samples/cognitive-services-REST-api-samples/master/curl/form-recognizer/contoso-receipt.png'\n",
    "\n",
    "# Send request to Form Recognizer service to process data\n",
    "poller = document_analysis_client.begin_analyze_document_from_url(\n",
    "        \"prebuilt-receipt\", document_url=IMAGE_URL\n",
    ")\n",
    "\n",
    "# Get the analyze result\n",
    "receipts = poller.result()\n",
    "print('Status: {}, Document(s): {}'.format(poller.status(), receipts.documents))"
   ]
  },
  {
   "cell_type": "markdown",
   "metadata": {},
   "source": [
    "## Extract information from analyzed result"
   ]
  },
  {
   "cell_type": "code",
   "execution_count": 9,
   "metadata": {},
   "outputs": [
    {
     "name": "stdout",
     "output_type": "stream",
     "text": [
      "--------Recognizing receipt #1--------\n",
      "Receipt Type: Hotel has confidence: 0.988\n",
      "ArrivalDate: 2021-03-27 has confidence 0.986\n",
      "Currency: USD has confidence 0.995\n",
      "DepartureDate: 2021-03-28 has confidence 0.986\n",
      "Receipt Items:\n",
      "...Item #1\n",
      "......Category: Room has confidence 0.988\n",
      "......Date: 2021-03-27 has confidence 0.99\n",
      "......Description: Room Charge has confidence 0.989\n",
      "......TotalPrice: 88.0 has confidence 0.99\n",
      "...Item #2\n",
      "......Category: Tax has confidence 0.986\n",
      "......Date: 2021-03-27 has confidence 0.99\n",
      "......Description: County Tax 6% has confidence 0.987\n",
      "......TotalPrice: 5.28 has confidence 0.99\n",
      "...Item #3\n",
      "......Category: Tax has confidence 0.986\n",
      "......Date: 2021-03-27 has confidence 0.99\n",
      "......Description: State Tax 6% has confidence 0.985\n",
      "......TotalPrice: 5.0 has confidence 0.99\n",
      "...Item #4\n",
      "......Category: Other has confidence 0.988\n",
      "......Date: 2021-03-27 has confidence 0.99\n",
      "......Description: Daily Parking has confidence 0.989\n",
      "......TotalPrice: 8.0 has confidence 0.989\n",
      "...Item #5\n",
      "......Category: Tax has confidence 0.988\n",
      "......Date: 2021-03-27 has confidence 0.989\n",
      "......Description: Parking Tax has confidence 0.989\n",
      "......TotalPrice: 0.38 has confidence 0.99\n",
      "...Item #6\n",
      "......Category: Credit has confidence 0.988\n",
      "......Date: 2021-03-28 has confidence 0.99\n",
      "......Description: American Express has confidence 0.989\n",
      "......TotalPrice: 104.92 has confidence 0.99\n",
      "Locale: en-US has confidence 0.992\n",
      "MerchantAddress: 5600 148th Ave NE, Redmond, WA 98052 has confidence 0.988\n",
      "MerchantAliases: [DocumentField(value_type=string, value='Contoso', content=Contoso, bounding_regions=[BoundingRegion(page_number=1, bounding_box=[Point(x=265.0, y=75.0), Point(x=343.0, y=76.0), Point(x=343.0, y=96.0), Point(x=266.0, y=96.0)])], spans=[DocumentSpan(offset=0, length=7)], confidence=0.813)] has confidence None\n",
      "MerchantName: Contoso Inn has confidence 0.986\n",
      "MerchantPhoneNumber: +19876544321 has confidence 0.99\n",
      "ReceiptType: Hotel has confidence 0.988\n",
      "Total: 104.92 has confidence 0.994\n"
     ]
    }
   ],
   "source": [
    "for idx, receipt in enumerate(receipts.documents):\n",
    "        print(\"--------Recognizing receipt #{}--------\".format(idx + 1))\n",
    "        receipt_type = receipt.fields.get(\"ReceiptType\")\n",
    "        if receipt_type:\n",
    "            print(\n",
    "                \"Receipt Type: {} has confidence: {}\".format(\n",
    "                    receipt_type.value, receipt_type.confidence\n",
    "                )\n",
    "            )\n",
    "        merchant_name = receipt.fields.get(\"MerchantName\")\n",
    "        for name, field in receipt.fields.items():\n",
    "            if name == \"Items\":\n",
    "                print(\"Receipt Items:\")\n",
    "                for id_item, items in enumerate(field.value):\n",
    "                    print(\"...Item #{}\".format(id_item + 1))\n",
    "                    for item_name, item in items.value.items():\n",
    "                        print(\"......{}: {} has confidence {}\".format(item_name, item.value, item.confidence))\n",
    "            else:\n",
    "                print(\"{}: {} has confidence {}\".format(name, field.value, field.confidence))"
   ]
  },
  {
   "cell_type": "markdown",
   "metadata": {},
   "source": [
    "## Next steps\n",
    "- Learn [Receipt concept](https://docs.microsoft.com/en-us/azure/cognitive-services/form-recognizer/concept-receipts)\n",
    "- Explore the [different offerings](https://docs.microsoft.com/en-us/azure/cognitive-services/form-recognizer/overview) in Form Recognizer\n",
    "- Try Form Recognizer with [Form Recognizer Studio](https://docs.microsoft.com/en-us/azure/applied-ai-services/form-recognizer/quickstarts/try-v3-form-recognizer-studio)"
   ]
  },
  {
   "cell_type": "code",
   "execution_count": null,
   "metadata": {},
   "outputs": [],
   "source": []
  }
 ],
 "metadata": {
  "interpreter": {
   "hash": "be34584a914411b92112902d7e0134e77b56151a1dd3ca41a681ece390d32dda"
  },
  "kernelspec": {
   "display_name": "Python 3.7.11 64-bit ('fr-demo': conda)",
   "name": "python3"
  },
  "language_info": {
   "codemirror_mode": {
    "name": "ipython",
    "version": 3
   },
   "file_extension": ".py",
   "mimetype": "text/x-python",
   "name": "python",
   "nbconvert_exporter": "python",
   "pygments_lexer": "ipython3",
   "version": "3.7.11"
  }
 },
 "nbformat": 4,
 "nbformat_minor": 2
}
