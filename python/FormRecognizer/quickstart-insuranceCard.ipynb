{
 "cells": [
  {
   "cell_type": "markdown",
   "metadata": {},
   "source": [
    "In this notebook, you'll use the Azure Form Recognizer v3.0 REST API with Python to extract and identify relevant information in health insurance cards."
   ]
  },
  {
   "attachments": {},
   "cell_type": "markdown",
   "metadata": {},
   "source": [
    "\n",
    "## Prerequistes\n",
    "- Azure subscription - [Create one for free](https://azure.microsoft.com/en-us/free/cognitive-services/)\n",
    "- [Python 3.x](https://www.python.org/) - Your Python installation should include [pip](https://pip.pypa.io/en/stable/). You can check if you have pip installed by running `pip --version` on the command line. Get pip by installing the latest version of Python.\n",
    "- Once you have your Azure subscription, [create a Form Recognizer resource](https://ms.portal.azure.com/#create/Microsoft.CognitiveServicesFormRecognizer) in the Azure portal to get your **key** and **endpoint**. After it deploys, click **Go to resource** - You will need the key and endpoint from the resource you create to connect your application to the Form Recognizer API. Later in the quickstart, you will paste your key and endpoint into the code below. You can use the free pricing tier (`F0`) to try the service, and upgrade later to a paid tier (`S0`) for production."
   ]
  },
  {
   "cell_type": "code",
   "execution_count": 10,
   "metadata": {},
   "outputs": [],
   "source": [
    "import json\n",
    "import time\n",
    "import base64\n",
    "from requests import get, post"
   ]
  },
  {
   "cell_type": "markdown",
   "metadata": {},
   "source": [
    "## Get the key and endpoint\n",
    "Refer to the screenshot on how to get the key and endpoint of your Form Recognizer resource.\n",
    "![How to find endpoint and key](./images/how-to-find-endpoint-and-key.png)"
   ]
  },
  {
   "cell_type": "code",
   "execution_count": 11,
   "metadata": {},
   "outputs": [],
   "source": [
    "endpoint = r\"<your endpoint>\"\n",
    "apim_key = \"<your key>\"\n",
    "post_url = endpoint + \"formrecognizer/documentModels/prebuilt-healthInsuranceCard.us:analyze\" # Refer to refer to https://docs.microsoft.com/azure/applied-ai-services/form-recognizer/v3-migration-guide#analyze-operation for the full list of model IDs supported in v3.0\n",
    "source = r\"sample-insurance-card.png\" # You can replace it with your own image or pdf file, see https://docs.microsoft.com/azure/applied-ai-services/form-recognizer/concept-model-overview#input-requirements for input requirements"
   ]
  },
  {
   "cell_type": "markdown",
   "metadata": {},
   "source": [
    "## Compose the headers, body and parameters"
   ]
  },
  {
   "cell_type": "code",
   "execution_count": 12,
   "metadata": {},
   "outputs": [],
   "source": [
    "# Use this header if your input is a publicly accessible URL or base64 encoded data\n",
    "headers = {\n",
    "    # Request headers\n",
    "    'Content-Type': 'application/json',\n",
    "    'Ocp-Apim-Subscription-Key': apim_key\n",
    "}"
   ]
  },
  {
   "cell_type": "code",
   "execution_count": null,
   "metadata": {},
   "outputs": [],
   "source": [
    "# # Alternatively, you can this header if your input is in bytes\n",
    "# headers_octet_stream = {\n",
    "#     # Request headers\n",
    "#     'Content-Type': 'application/octet-stream',\n",
    "#     'Ocp-Apim-Subscription-Key': apim_key\n",
    "# }"
   ]
  },
  {
   "cell_type": "code",
   "execution_count": 13,
   "metadata": {},
   "outputs": [],
   "source": [
    "# Read a local file and convert to base64 format\n",
    "with open(source, \"rb\") as f:\n",
    "    data_bytes = f.read()\n",
    "base64_bytes = base64.b64encode(data_bytes).decode()"
   ]
  },
  {
   "cell_type": "code",
   "execution_count": 15,
   "metadata": {},
   "outputs": [],
   "source": [
    "# Compose the request body for base64 encoded data\n",
    "body = \"{\\\"base64Source\\\": \\\"\" + f\"{base64_bytes}\" + \"\\\"}\""
   ]
  },
  {
   "cell_type": "code",
   "execution_count": null,
   "metadata": {},
   "outputs": [],
   "source": [
    "# # Use this body if your input can be publicly accessed via an URL\n",
    "# body_url = \"{'urlSource': \\\"https://formrecognizer.appliedai.azure.com/documents/samples/prebuilt/insurance.jpg\\\"}\""
   ]
  },
  {
   "cell_type": "code",
   "execution_count": 16,
   "metadata": {},
   "outputs": [],
   "source": [
    "# Specify the API version in params.\n",
    "params = {\n",
    "    \"api-version\": \"<api version>\" # replace with the latest API version, e.g. \"2022-03-31-preview\"\n",
    "}"
   ]
  },
  {
   "cell_type": "markdown",
   "metadata": {},
   "source": [
    "## POST to analyze the document"
   ]
  },
  {
   "cell_type": "code",
   "execution_count": null,
   "metadata": {},
   "outputs": [],
   "source": [
    "# POST using \"application/json\" header\n",
    "try:\n",
    "    resp = post(url = post_url, headers = headers, params = params, data = body)\n",
    "    if resp.status_code != 202:\n",
    "        print(\"POST analyze failed:\\n%s\" % resp.text)\n",
    "    else:\n",
    "        print(\"POST analyze succeeded:\\n%s\" % resp.headers)\n",
    "        get_url = resp.headers[\"operation-location\"]\n",
    "        print(\"GET URL:\")\n",
    "        print(get_url)\n",
    "except Exception as e:\n",
    "    print(\"POST analyze failed:\\n%s\" % str(e))"
   ]
  },
  {
   "cell_type": "markdown",
   "metadata": {},
   "source": [
    "You'll receive a 202 (Success) response that includes an `Operation-Location` GUID header, which the script will print to the console. This header contains an operation ID that you can use to query the status of the asynchronous operation and get the results."
   ]
  },
  {
   "cell_type": "code",
   "execution_count": null,
   "metadata": {},
   "outputs": [],
   "source": [
    "# # POST using \"application/octet-stream\" header \n",
    "# try:\n",
    "#     resp = post(url = post_url, headers = headers_octet_stream, params = params, data = data_bytes)\n",
    "#     if resp.status_code != 202:\n",
    "#         print(\"POST analyze failed:\\n%s\" % resp.text)\n",
    "#     else:\n",
    "#         print(\"POST analyze succeeded:\\n%s\" % resp.headers)\n",
    "#         get_url = resp.headers[\"operation-location\"]\n",
    "#         print(get_url)\n",
    "# except Exception as e:\n",
    "#     print(\"POST analyze failed:\\n%s\" % str(e))"
   ]
  },
  {
   "cell_type": "markdown",
   "metadata": {},
   "source": [
    "## GET analyzed result\n",
    "After you've called the Analyze API, you call the GET Analyze Result API to get the status of the operation and the extracted data. This uses the `Operation-Location` value in a new API call. This script calls the API at regular intervals until the results are available. We recommend an interval of one second or more."
   ]
  },
  {
   "cell_type": "code",
   "execution_count": null,
   "metadata": {},
   "outputs": [],
   "source": [
    "n_tries = 10\n",
    "n_try = 0\n",
    "wait_sec = 6\n",
    "while n_try < n_tries:\n",
    "    try:\n",
    "        resp = get(url = get_url, headers = {\"Ocp-Apim-Subscription-Key\": apim_key})\n",
    "        resp_json = json.loads(resp.text)\n",
    "        if resp.status_code != 200:\n",
    "            print(\"GET insurance card results failed:\\n%s\" % resp_json)\n",
    "            break\n",
    "        status = resp_json[\"status\"]\n",
    "        if status == \"succeeded\":\n",
    "            print(\"Insurance card analysis succeeded:\\n%s\" % resp_json)\n",
    "            break\n",
    "        if status == \"failed\":\n",
    "            print(\"Insurance card analysis failed:\\n%s\" % resp_json)\n",
    "            break\n",
    "        # Analysis still running. Wait and retry.\n",
    "        time.sleep(wait_sec)\n",
    "        n_try += 1\n",
    "    except Exception as e:\n",
    "        msg = \"GET analyze results failed:\\n%s\" % str(e)\n",
    "        print(msg)\n",
    "        break"
   ]
  },
  {
   "cell_type": "markdown",
   "metadata": {},
   "source": [
    "## Examine the reponse\n",
    "The script will print responses to the console until the Analyze operation completes. Then, it will print the extracted text data in JSON format. The \"words\" and \"lines\" in \"pages\" section contain every word and line of text that was extracted from the insurance card; the \"fields\" in \"documents\" section contains key/value information (e.g. member name, ID number, prescription info, etc.) extracted from the insurance card."
   ]
  }
 ],
 "metadata": {
  "interpreter": {
   "hash": "bd96dd556935821ae0cd97e1f01558dae0008eb97aadfcb0e67ae0741e8b87fd"
  },
  "kernelspec": {
   "display_name": "Python 3.7.11 ('fr-preview2')",
   "language": "python",
   "name": "python3"
  },
  "language_info": {
   "codemirror_mode": {
    "name": "ipython",
    "version": 3
   },
   "file_extension": ".py",
   "mimetype": "text/x-python",
   "name": "python",
   "nbconvert_exporter": "python",
   "pygments_lexer": "ipython3",
   "version": "3.7.11"
  },
  "orig_nbformat": 4
 },
 "nbformat": 4,
 "nbformat_minor": 2
}
