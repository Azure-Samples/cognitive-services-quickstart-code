{
 "cells": [
  {
   "cell_type": "markdown",
   "metadata": {},
   "source": [
    "# Form Recognizer REST API Samples\n",
    "The Form Recognizer REST API has been updated for improved usability. Check out the [migration guide](https://docs.microsoft.com/en-us/azure/applied-ai-services/form-recognizer/v3-migration-guide) to learn more the changes. \n",
    "\n",
    "This samples demonstrates how to invoke the API to analyze a document with the different prebuilt, pre-trained and custom models."
   ]
  },
  {
   "cell_type": "code",
   "execution_count": null,
   "metadata": {},
   "outputs": [],
   "source": [
    "import json, time\n",
    "from requests import get, post\n",
    "your_fr_resource = \"SET YOUR FORM RECOGNIZER ENDPOINT\"\n",
    "your_fr_key = \"SET YOUR FORM RECOGNIZER KEY\"\n",
    "endpoint = f\"https://{your_fr_resource}.cognitiveservices.azure.com/\"\n",
    "apim_key = f\"{your_fr_key}\"\n",
    "post_url = endpoint + \"/formrecognizer/v2.1-preview.2/prebuilt/invoice/analyze?locale=en-US\"\n",
    "post_url_v3 = endpoint + \"formrecognizer/documentModels/%s:analyze?api-version=2021-07-30-preview\"\n",
    "print(post_url_v3)"
   ]
  },
  {
   "cell_type": "markdown",
   "metadata": {},
   "source": [
    "## Sample Invoice Analysis\n",
    "\n",
    "Sumit the request to the analyze endpoint. Successfully submitted requests will respond with header ```operation-location``` that will contain the URL to get the response from the analyze operation"
   ]
  },
  {
   "cell_type": "code",
   "execution_count": null,
   "metadata": {},
   "outputs": [],
   "source": [
    "model= \"prebuilt-invoice\"\n",
    "url = post_url_v3%model\n",
    "print(url)\n",
    "body = { \n",
    "    \"urlSource\": \"SAS URL to document\" \n",
    "    }\n",
    "headers = {\n",
    "    # Request headers\n",
    "    'Content-Type': 'application/json',\n",
    "    'Ocp-Apim-Subscription-Key': apim_key,\n",
    "}\n",
    "\n",
    "params = {\n",
    "   \n",
    "    \"locale\": \"en-US\"\n",
    "}\n",
    "try:\n",
    "    resp = post(url = url, data = json.dumps(body), headers = headers, params = params)\n",
    "    if resp.status_code != 202:\n",
    "        print(\"POST analyze failed:\\n%s\" % resp.text)\n",
    "        quit()\n",
    "    print(\"POST analyze succeeded:\\n%s\" % resp.headers)\n",
    "    get_url = resp.headers[\"operation-location\"]\n",
    "    print(get_url)\n",
    "except Exception as e:\n",
    "    print(\"POST analyze failed:\\n%s\" % str(e))\n",
    "    quit()"
   ]
  },
  {
   "cell_type": "markdown",
   "metadata": {},
   "source": [
    "### GET the Response from the analyze operation"
   ]
  },
  {
   "cell_type": "code",
   "execution_count": null,
   "metadata": {},
   "outputs": [],
   "source": [
    "n_tries = 10\n",
    "n_try = 0\n",
    "wait_sec = 6\n",
    "while n_try < n_tries:\n",
    "    try:\n",
    "        resp = get(url = get_url, headers = {\"Ocp-Apim-Subscription-Key\": apim_key})\n",
    "        resp_json = json.loads(resp.text)\n",
    "        if resp.status_code != 200:\n",
    "            print(\"GET Invoice results failed:\\n%s\" % resp_json)\n",
    "            quit()\n",
    "        status = resp_json[\"status\"]\n",
    "        if status == \"succeeded\":\n",
    "            print(f\"{model} Analysis succeeded:\\n%s\" % resp_json)\n",
    "            quit()\n",
    "        if status == \"failed\":\n",
    "            print(f\"{model} Analysis failed:\\n%s\" % resp_json)\n",
    "            quit()\n",
    "        # Analysis still running. Wait and retry.\n",
    "        time.sleep(wait_sec)\n",
    "        n_try += 1     \n",
    "    except Exception as e:\n",
    "        msg = \"GET analyze results failed:\\n%s\" % str(e)\n",
    "        print(msg)\n",
    "        break\n",
    "        quit()"
   ]
  },
  {
   "cell_type": "markdown",
   "metadata": {},
   "source": [
    "## Sample Receipt Analysis"
   ]
  },
  {
   "cell_type": "code",
   "execution_count": null,
   "metadata": {},
   "outputs": [],
   "source": [
    "model = \"prebuilt-receipt\"\n",
    "url = post_url_v3%model\n",
    "body = { \n",
    "    \"urlSource\": \"SAS URL to document\" \n",
    "    }\n",
    "headers = {\n",
    "    # Request headers\n",
    "    'Content-Type': 'application/json',\n",
    "    'Ocp-Apim-Subscription-Key': apim_key,\n",
    "}\n",
    "print(json.dumps(body))\n",
    "params = {\n",
    "   \n",
    "    \"locale\": \"en-US\"\n",
    "}\n",
    "try:\n",
    "    resp = post(url = url, data = json.dumps(body), headers = headers, params = params)\n",
    "    if resp.status_code != 202:\n",
    "        print(\"POST analyze failed:\\n%s\" % resp.text)\n",
    "        quit()\n",
    "    print(\"POST analyze succeeded:\\n%s\" % resp.headers)\n",
    "    get_url = resp.headers[\"operation-location\"]\n",
    "    print(get_url)\n",
    "except Exception as e:\n",
    "    print(\"POST analyze failed:\\n%s\" % str(e))\n",
    "    quit()"
   ]
  },
  {
   "cell_type": "markdown",
   "metadata": {},
   "source": [
    "### GET the Response from the analyze operation"
   ]
  },
  {
   "cell_type": "code",
   "execution_count": null,
   "metadata": {},
   "outputs": [],
   "source": [
    "n_tries = 10\n",
    "n_try = 0\n",
    "wait_sec = 6\n",
    "while n_try < n_tries:\n",
    "    try:\n",
    "        resp = get(url = get_url, headers = {\"Ocp-Apim-Subscription-Key\": apim_key})\n",
    "        resp_json = json.loads(resp.text)\n",
    "        if resp.status_code != 200:\n",
    "            print(\"GET Invoice results failed:\\n%s\" % resp_json)\n",
    "            quit()\n",
    "        status = resp_json[\"status\"]\n",
    "        if status == \"succeeded\":\n",
    "            print(f\"{model} Analysis succeeded:\\n%s\" % resp_json)\n",
    "            quit()\n",
    "        if status == \"failed\":\n",
    "            print(f\"{model} Analysis failed:\\n%s\" % resp_json)\n",
    "            quit()\n",
    "        # Analysis still running. Wait and retry.\n",
    "        time.sleep(wait_sec)\n",
    "        n_try += 1     \n",
    "    except Exception as e:\n",
    "        msg = \"GET analyze results failed:\\n%s\" % str(e)\n",
    "        print(msg)\n",
    "        break\n",
    "        quit()"
   ]
  },
  {
   "cell_type": "markdown",
   "metadata": {},
   "source": [
    "## Sample ID Analysis"
   ]
  },
  {
   "cell_type": "code",
   "execution_count": null,
   "metadata": {},
   "outputs": [],
   "source": [
    "model = \"prebuilt-idDocument\"\n",
    "url = post_url_v3%model\n",
    "body = { \n",
    "    \"urlSource\": \"SAS URL to document\"\n",
    "    }\n",
    "headers = {\n",
    "    # Request headers\n",
    "    'Content-Type': 'application/json',\n",
    "    'Ocp-Apim-Subscription-Key': apim_key,\n",
    "}\n",
    "print(json.dumps(body))\n",
    "params = {\n",
    "   \n",
    "    \"locale\": \"en-US\"\n",
    "}\n",
    "try:\n",
    "    resp = post(url = url, data = json.dumps(body), headers = headers, params = params)\n",
    "    if resp.status_code != 202:\n",
    "        print(\"POST analyze failed:\\n%s\" % resp.text)\n",
    "        quit()\n",
    "    print(\"POST analyze succeeded:\\n%s\" % resp.headers)\n",
    "    get_url = resp.headers[\"operation-location\"]\n",
    "    print(get_url)\n",
    "except Exception as e:\n",
    "    print(\"POST analyze failed:\\n%s\" % str(e))\n",
    "    quit()"
   ]
  },
  {
   "cell_type": "markdown",
   "metadata": {},
   "source": [
    "### GET the Response from the analyze operation"
   ]
  },
  {
   "cell_type": "code",
   "execution_count": null,
   "metadata": {},
   "outputs": [],
   "source": [
    "n_tries = 10\n",
    "n_try = 0\n",
    "wait_sec = 6\n",
    "while n_try < n_tries:\n",
    "    try:\n",
    "        resp = get(url = get_url, headers = {\"Ocp-Apim-Subscription-Key\": apim_key})\n",
    "        resp_json = json.loads(resp.text)\n",
    "        if resp.status_code != 200:\n",
    "            print(\"GET Invoice results failed:\\n%s\" % resp_json)\n",
    "            quit()\n",
    "        status = resp_json[\"status\"]\n",
    "        if status == \"succeeded\":\n",
    "            print(f\"{model} Analysis succeeded:\\n%s\" % resp_json)\n",
    "            quit()\n",
    "        if status == \"failed\":\n",
    "            print(f\"{model} Analysis failed:\\n%s\" % resp_json)\n",
    "            quit()\n",
    "        # Analysis still running. Wait and retry.\n",
    "        time.sleep(wait_sec)\n",
    "        n_try += 1     \n",
    "    except Exception as e:\n",
    "        msg = \"GET analyze results failed:\\n%s\" % str(e)\n",
    "        print(msg)\n",
    "        break\n",
    "        quit()"
   ]
  },
  {
   "cell_type": "markdown",
   "metadata": {},
   "source": [
    "## Sample Document Analysis"
   ]
  },
  {
   "cell_type": "code",
   "execution_count": null,
   "metadata": {},
   "outputs": [],
   "source": [
    "model = \"prebuilt-document\"\n",
    "url = post_url_v3%model\n",
    "print(url)\n",
    "body = { \n",
    "    \"urlSource\": \"SAS URL to document\"\n",
    "    }\n",
    "headers = {\n",
    "    # Request headers\n",
    "    'Content-Type': 'application/json',\n",
    "    'Ocp-Apim-Subscription-Key': apim_key,\n",
    "}\n",
    "print(json.dumps(body))\n",
    "params = {\n",
    "   \n",
    "    \"locale\": \"en-US\"\n",
    "}\n",
    "try:\n",
    "    resp = post(url = url, data = json.dumps(body), headers = headers, params = params)\n",
    "    if resp.status_code != 202:\n",
    "        print(\"POST analyze failed:\\n%s\" % resp.text)\n",
    "     \n",
    "    print(\"POST analyze succeeded:\\n%s\" % resp.headers)\n",
    "    get_url = resp.headers[\"operation-location\"]\n",
    "    print(get_url)\n",
    "except Exception as e:\n",
    "    print(\"POST analyze failed:\\n%s\" % str(e))\n",
    "    quit()"
   ]
  },
  {
   "cell_type": "markdown",
   "metadata": {},
   "source": [
    "### GET the Response from the analyze operation\n",
    "This example only demonstrates getting the key value pairs, you can similarly get the entites extracted as well"
   ]
  },
  {
   "cell_type": "code",
   "execution_count": null,
   "metadata": {},
   "outputs": [],
   "source": [
    "n_tries = 10\n",
    "n_try = 0\n",
    "wait_sec = 6\n",
    "while n_try < n_tries:\n",
    "    try:\n",
    "        resp = get(url = get_url, headers = {\"Ocp-Apim-Subscription-Key\": apim_key})\n",
    "        resp_json = json.loads(resp.text)\n",
    "        if resp.status_code != 200:\n",
    "            print(\"GET Invoice results failed:\\n%s\" % resp_json)\n",
    "            quit()\n",
    "        status = resp_json[\"status\"]\n",
    "        if status == \"succeeded\":\n",
    "            print(f\"{model} Analysis succeeded:\\n%s\" % resp_json[\"analyzeResult\"][\"keyValuePairs\"])\n",
    "           \n",
    "            quit()\n",
    "        if status == \"failed\":\n",
    "            print(f\"{model} Analysis failed:\\n%s\" % resp_json)\n",
    "            quit()\n",
    "        # Analysis still running. Wait and retry.\n",
    "        time.sleep(wait_sec)\n",
    "        n_try += 1     \n",
    "    except Exception as e:\n",
    "        msg = \"GET analyze results failed:\\n%s\" % str(e)\n",
    "        print(msg)\n",
    "        break\n",
    "        quit()"
   ]
  },
  {
   "cell_type": "markdown",
   "metadata": {},
   "source": [
    "## Sample Train  a Custom Model"
   ]
  },
  {
   "cell_type": "code",
   "execution_count": null,
   "metadata": {},
   "outputs": [],
   "source": [
    "modelId = \"car_maint_2\"\n",
    "train_url_v3 = endpoint + \"formrecognizer/documentModels:build?api-version=2021-09-30-preview\"\n",
    "\n",
    "body = {\n",
    "  \"modelId\": modelId,\n",
    "  \"description\": \"Sample model\",\n",
    "  \"azureBlobSource\": {\n",
    "    \"containerUrl\": \"SAS URL to container\",\n",
    "    \"prefix\": \"folder/path/to/training/data\"\n",
    "  }\n",
    "}\n",
    "headers = {\n",
    "    # Request headers\n",
    "    'Content-Type': 'application/json',\n",
    "    'Ocp-Apim-Subscription-Key': apim_key,\n",
    "}\n",
    "#print(json.dumps(body))\n",
    "params = {\n",
    "   \n",
    "    \"locale\": \"en-US\"\n",
    "}\n",
    "try:\n",
    "    resp = post(url = train_url_v3, data = json.dumps(body), headers = headers, params = params)\n",
    "    if resp.status_code != 202:\n",
    "        print(\"POST Train failed:\\n%s\" % resp.text)\n",
    "        quit()\n",
    "    else:\n",
    "        print(\"POST Train succeeded:\\n%s\" % resp.headers)\n",
    "        get_url = resp.headers[\"operation-location\"]\n",
    "        print(get_url)\n",
    "except Exception as e:\n",
    "    print(\"POST analyze failed:\\n%s\" % str(e))\n",
    "    quit()"
   ]
  },
  {
   "cell_type": "markdown",
   "metadata": {},
   "source": [
    "### GET the Response from the train operation"
   ]
  },
  {
   "cell_type": "code",
   "execution_count": null,
   "metadata": {},
   "outputs": [],
   "source": [
    "resp = get(url = get_url, headers = {\"Ocp-Apim-Subscription-Key\": apim_key})\n",
    "resp_json = json.loads(resp.text)\n",
    "print(resp.text)"
   ]
  },
  {
   "cell_type": "markdown",
   "metadata": {},
   "source": [
    "## Analyze with custom model"
   ]
  },
  {
   "cell_type": "code",
   "execution_count": null,
   "metadata": {},
   "outputs": [],
   "source": [
    "modelId = \"car_maint_1\" # Replace with the model id you created or want to use\n",
    "url = post_url_v3%modelId\n",
    "print(url)\n",
    "body = { \n",
    "    \"urlSource\": \"SAS URL to document\"\n",
    "    }\n",
    "headers = {\n",
    "    # Request headers\n",
    "    'Content-Type': 'application/json',\n",
    "    'Ocp-Apim-Subscription-Key': apim_key,\n",
    "}\n",
    "print(json.dumps(body))\n",
    "params = {\n",
    "   \n",
    "    \"locale\": \"en-US\"\n",
    "}\n",
    "try:\n",
    "    resp = post(url = url, data = json.dumps(body), headers = headers, params = params)\n",
    "    if resp.status_code != 202:\n",
    "        print(\"POST analyze failed:\\n%s\" % resp.text)\n",
    "    else:\n",
    "        get_url = resp.headers[\"operation-location\"]\n",
    "        print(get_url)\n",
    "     \n",
    "        print(\"POST analyze succeeded:\\n%s\" % resp.headers)\n",
    "except Exception as e:\n",
    "    print(\"POST analyze failed:\\n%s\" % str(e))\n",
    "    quit()"
   ]
  },
  {
   "cell_type": "markdown",
   "metadata": {},
   "source": [
    "### GET the response from the custom model analyze results"
   ]
  },
  {
   "cell_type": "code",
   "execution_count": null,
   "metadata": {},
   "outputs": [],
   "source": [
    "n_tries = 10\n",
    "n_try = 0\n",
    "wait_sec = 6\n",
    "while n_try < n_tries:\n",
    "    try:\n",
    "        resp = get(url = get_url, headers = {\"Ocp-Apim-Subscription-Key\": apim_key})\n",
    "        resp_json = json.loads(resp.text)\n",
    "        if resp.status_code != 200:\n",
    "            print(\"GET Invoice results failed:\\n%s\" % resp_json)\n",
    "            quit()\n",
    "        status = resp_json[\"status\"]\n",
    "        if status == \"succeeded\":\n",
    "            print(f\"{model} Analysis succeeded:\\n%s\" % resp_json[\"analyzeResult\"][\"keyValuePairs\"])\n",
    "           \n",
    "            quit()\n",
    "        if status == \"failed\":\n",
    "            print(f\"{model} Analysis failed:\\n%s\" % resp_json)\n",
    "            quit()\n",
    "        # Analysis still running. Wait and retry.\n",
    "        time.sleep(wait_sec)\n",
    "        n_try += 1     \n",
    "    except Exception as e:\n",
    "        msg = \"GET analyze results failed:\\n%s\" % str(e)\n",
    "        print(msg)\n",
    "        break\n",
    "        quit()"
   ]
  },
  {
   "cell_type": "markdown",
   "metadata": {},
   "source": [
    "## Get Models"
   ]
  },
  {
   "cell_type": "code",
   "execution_count": null,
   "metadata": {},
   "outputs": [],
   "source": [
    "get_url = endpoint + \"formrecognizer/documentModels?api-version=2021-07-30-preview\"\n",
    "print(get_url)\n",
    "resp = get(url = get_url, headers = {\"Ocp-Apim-Subscription-Key\": apim_key})\n",
    "resp_json = json.loads(resp.text)\n",
    "print(resp.text)"
   ]
  }
 ],
 "metadata": {
  "kernelspec": {
   "display_name": "Python 3",
   "language": "python",
   "name": "python3"
  },
  "language_info": {
   "codemirror_mode": {
    "name": "ipython",
    "version": 3
   },
   "file_extension": ".py",
   "mimetype": "text/x-python",
   "name": "python",
   "nbconvert_exporter": "python",
   "pygments_lexer": "ipython3",
   "version": "3.7.4"
  }
 },
 "nbformat": 4,
 "nbformat_minor": 2
}
